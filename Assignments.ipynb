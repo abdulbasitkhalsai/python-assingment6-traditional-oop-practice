{
 "cells": [
  {
   "cell_type": "markdown",
   "id": "ae93bd2c",
   "metadata": {},
   "source": [
    "1. Using self\n",
    "Assignment:\n",
    "Create a class Student with attributes name and marks. Use the self keyword to initialize these values via a constructor. Add a method display() that prints student details."
   ]
  },
  {
   "cell_type": "code",
   "execution_count": 1,
   "id": "182a0630",
   "metadata": {},
   "outputs": [
    {
     "name": "stdout",
     "output_type": "stream",
     "text": [
      "Ahmed obtained 89 marks.\n"
     ]
    }
   ],
   "source": [
    "class Student:\n",
    "    def __init__(self, name, marks):\n",
    "        self.name = name\n",
    "        self.marks = marks\n",
    "    def display(self):\n",
    "        print(f\"{self.name} obtained {self.marks} marks.\")\n",
    "\n",
    "Student1 = Student(\"Ahmed\", 89)\n",
    "Student1.display()"
   ]
  },
  {
   "cell_type": "markdown",
   "id": "674604ed",
   "metadata": {},
   "source": [
    "2. Using cls\n",
    "Assignment:\n",
    "Create a class Counter that keeps track of how many objects have been created. Use a class variable and a class method with cls to manage and display the count."
   ]
  },
  {
   "cell_type": "code",
   "execution_count": 1,
   "id": "73f2ec44",
   "metadata": {},
   "outputs": [
    {
     "name": "stdout",
     "output_type": "stream",
     "text": [
      "Counter: 1\n",
      "Counter: 2\n",
      "Counter: 3\n",
      "Counter: 4\n"
     ]
    }
   ],
   "source": [
    "class Counter:\n",
    "    count = 0\n",
    "    def __init__(self):\n",
    "        Counter.count += 1\n",
    "        print(\"Counter:\", Counter.count)\n",
    "a = Counter()\n",
    "b = Counter()\n",
    "c = Counter()\n",
    "d = Counter()"
   ]
  },
  {
   "cell_type": "markdown",
   "id": "3d4f9281",
   "metadata": {},
   "source": [
    "3. Public Variables and Methods\n",
    "Assignment:\n",
    "Create a class Car with a public variable brand and a public method start(). Instantiate the class and access both from outside the class."
   ]
  },
  {
   "cell_type": "code",
   "execution_count": null,
   "id": "157a16a0",
   "metadata": {},
   "outputs": [
    {
     "name": "stdout",
     "output_type": "stream",
     "text": [
      "Toyota Corolla is starting.\n",
      "Honda Civic is starting.\n",
      "Ford Mustang is starting.\n"
     ]
    },
    {
     "ename": "",
     "evalue": "",
     "output_type": "error",
     "traceback": [
      "\u001b[1;31mThe Kernel crashed while executing code in the current cell or a previous cell. \n",
      "\u001b[1;31mPlease review the code in the cell(s) to identify a possible cause of the failure. \n",
      "\u001b[1;31mClick <a href='https://aka.ms/vscodeJupyterKernelCrash'>here</a> for more info. \n",
      "\u001b[1;31mView Jupyter <a href='command:jupyter.viewOutput'>log</a> for further details."
     ]
    }
   ],
   "source": [
    "class Car:\n",
    "    def __init__(self, brand, model):\n",
    "        self.brand = brand\n",
    "        self.model = model\n",
    "    def start(self):\n",
    "        print(f\"{self.brand} {self.model} is starting.\")\n",
    "\n",
    "car1 = Car(\"Toyota\", \"Corolla\")\n",
    "car2 = Car(\"Honda\", \"Civic\")\n",
    "car3 = Car(\"Ford\", \"Mustang\")\n",
    "\n",
    "car1.start()\n",
    "car2.start()\n",
    "car3.start()"
   ]
  },
  {
   "cell_type": "markdown",
   "id": "cc20481f",
   "metadata": {},
   "source": [
    "4. Class Variables and Class Methods\n",
    "Assignment:\n",
    "Create a class Bank with a class variable bank_name. Add a class method change_bank_name(cls, name) that allows changing the bank name. Show that it affects all instances."
   ]
  },
  {
   "cell_type": "markdown",
   "id": "9788dcd4",
   "metadata": {},
   "source": [
    "5. Static Variables and Static Methods\n",
    "Assignment:\n",
    "Create a class MathUtils with a static method add(a, b) that returns the sum. No class or instance variables should be used."
   ]
  },
  {
   "cell_type": "markdown",
   "id": "91211890",
   "metadata": {},
   "source": [
    "6. Constructors and Destructors\n",
    "Assignment:\n",
    "Create a class Logger that prints a message when an object is created (constructor) and another message when it is destroyed (destructor)."
   ]
  },
  {
   "cell_type": "markdown",
   "id": "8c610566",
   "metadata": {},
   "source": [
    "7. Access Modifiers: Public, Private, and Protected\n",
    "Assignment:\n",
    "Create a class Employee with:\n",
    "\n",
    "a public variable name,\n",
    "\n",
    "a protected variable _salary, and\n",
    "\n",
    "a private variable __ssn.\n",
    "\n",
    "Try accessing all three variables from an object of the class and document what happens."
   ]
  },
  {
   "cell_type": "markdown",
   "id": "3fae1206",
   "metadata": {},
   "source": [
    "8. The super() Function\n",
    "Assignment:\n",
    "Create a class Person with a constructor that sets the name. Inherit a class Teacher from it, add a subject field, and use super() to call the base class constructor."
   ]
  },
  {
   "cell_type": "markdown",
   "id": "4642f865",
   "metadata": {},
   "source": [
    "9. Abstract Classes and Methods\n",
    "Assignment:\n",
    "Use the abc module to create an abstract class Shape with an abstract method area(). Inherit a class Rectangle that implements area()."
   ]
  },
  {
   "cell_type": "markdown",
   "id": "985ffa37",
   "metadata": {},
   "source": [
    "10. Instance Methods\n",
    "Assignment:\n",
    "Create a class Dog with instance variables name and breed. Add an instance method bark() that prints a message including the dog's name."
   ]
  },
  {
   "cell_type": "markdown",
   "id": "5f22dbf3",
   "metadata": {},
   "source": [
    "11. Class Methods\n",
    "Assignment:\n",
    "Create a class Book with a class variable total_books. Add a class method increment_book_count() to increase the count when a new book is added."
   ]
  },
  {
   "cell_type": "markdown",
   "id": "b4d1c97a",
   "metadata": {},
   "source": [
    "\n",
    "12. Static Methods\n",
    "Assignment:\n",
    "Create a class TemperatureConverter with a static method celsius_to_fahrenheit(c) that returns the Fahrenheit value."
   ]
  },
  {
   "cell_type": "markdown",
   "id": "9bb13b63",
   "metadata": {},
   "source": [
    "13. Composition\n",
    "Assignment:\n",
    "Create a class Engine and a class Car. Use composition by passing an Engine object to the Car class during initialization. Access a method of the Engine class via the Car class."
   ]
  },
  {
   "cell_type": "markdown",
   "id": "a76c823d",
   "metadata": {},
   "source": [
    "\n",
    "14. Aggregation\n",
    "Assignment:\n",
    "Create a class Department and a class Employee. Use aggregation by having a Department object store a reference to an Employee object that exists independently of it."
   ]
  },
  {
   "cell_type": "markdown",
   "id": "069519a0",
   "metadata": {},
   "source": [
    "15. Method Resolution Order (MRO) and Diamond Inheritance\n",
    "Assignment:\n",
    "Create four classes:\n",
    "\n",
    "A with a method show(),\n",
    "\n",
    "B and C that inherit from A and override show(),\n",
    "\n",
    "D that inherits from both B and C.\n",
    "\n",
    "Create an object of D and call show() to observe MRO."
   ]
  },
  {
   "cell_type": "markdown",
   "id": "2fd196fb",
   "metadata": {},
   "source": [
    "\n",
    "16. Function Decorators\n",
    "Assignment:\n",
    "Write a decorator function log_function_call that prints \"Function is being called\" before a function executes. Apply it to a function say_hello()."
   ]
  },
  {
   "cell_type": "markdown",
   "id": "a7df960c",
   "metadata": {},
   "source": [
    "\n",
    "17. Class Decorators\n",
    "Assignment:\n",
    "Create a class decorator add_greeting that modifies a class to add a greet() method returning \"Hello from Decorator!\". Apply it to a class Person."
   ]
  },
  {
   "cell_type": "markdown",
   "id": "7b5c9569",
   "metadata": {},
   "source": [
    "18. Property Decorators: @property, @setter, and @deleter\n",
    "Assignment:\n",
    "Create a class Product with a private attribute _price. Use @property to get the price, @price.setter to update it, and @price.deleter to delete it."
   ]
  },
  {
   "cell_type": "markdown",
   "id": "4826d2b7",
   "metadata": {},
   "source": [
    "19. callable() and __call__()\n",
    "Assignment:\n",
    "Create a class Multiplier with an __init__() to set a factor. Define a __call__() method that multiplies an input by the factor. Test it with callable() and by calling the object like a function."
   ]
  },
  {
   "cell_type": "markdown",
   "id": "4d4c2d4f",
   "metadata": {},
   "source": [
    "\n",
    "20. Creating a Custom Exception\n",
    "Assignment:\n",
    "Create a custom exception InvalidAgeError. Write a function check_age(age) that raises this exception if age < 18. Handle it with try...except."
   ]
  },
  {
   "cell_type": "markdown",
   "id": "9e956676",
   "metadata": {},
   "source": [
    "21. Make a Custom Class Iterable\n",
    "Assignment:\n",
    "Create a class Countdown that takes a start number. Implement __iter__() and __next__() to make the object iterable in a for-loop, counting down to 0.\n",
    "\n",
    "Once you are done submit this form ASAP:\n",
    "\n",
    "https://forms.gle/tS7C3sr55tUZ36GY8\n",
    "\n",
    "Good luck! 🚀"
   ]
  }
 ],
 "metadata": {
  "kernelspec": {
   "display_name": "Python 3",
   "language": "python",
   "name": "python3"
  },
  "language_info": {
   "codemirror_mode": {
    "name": "ipython",
    "version": 3
   },
   "file_extension": ".py",
   "mimetype": "text/x-python",
   "name": "python",
   "nbconvert_exporter": "python",
   "pygments_lexer": "ipython3",
   "version": "3.13.2"
  }
 },
 "nbformat": 4,
 "nbformat_minor": 5
}
